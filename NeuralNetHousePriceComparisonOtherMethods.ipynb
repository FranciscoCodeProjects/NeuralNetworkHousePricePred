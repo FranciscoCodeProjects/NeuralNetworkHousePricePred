{
 "cells": [
  {
   "cell_type": "code",
   "execution_count": null,
   "metadata": {
    "id": "gILu1UYqKpLe"
   },
   "outputs": [],
   "source": [
    "import numpy as np\n",
    "from keras.models import Sequential\n",
    "from keras.layers import Dense\n",
    "from keras.wrappers.scikit_learn import KerasRegressor\n",
    "from sklearn.model_selection import cross_val_score\n",
    "from sklearn.model_selection import KFold\n",
    "from sklearn.pipeline import Pipeline\n",
    "from sklearn.model_selection import train_test_split"
   ]
  },
  {
   "cell_type": "code",
   "execution_count": null,
   "metadata": {
    "colab": {
     "base_uri": "https://localhost:8080/",
     "height": 74,
     "resources": {
      "http://localhost:8080/nbextensions/google.colab/files.js": {
       "data": "Ly8gQ29weXJpZ2h0IDIwMTcgR29vZ2xlIExMQwovLwovLyBMaWNlbnNlZCB1bmRlciB0aGUgQXBhY2hlIExpY2Vuc2UsIFZlcnNpb24gMi4wICh0aGUgIkxpY2Vuc2UiKTsKLy8geW91IG1heSBub3QgdXNlIHRoaXMgZmlsZSBleGNlcHQgaW4gY29tcGxpYW5jZSB3aXRoIHRoZSBMaWNlbnNlLgovLyBZb3UgbWF5IG9idGFpbiBhIGNvcHkgb2YgdGhlIExpY2Vuc2UgYXQKLy8KLy8gICAgICBodHRwOi8vd3d3LmFwYWNoZS5vcmcvbGljZW5zZXMvTElDRU5TRS0yLjAKLy8KLy8gVW5sZXNzIHJlcXVpcmVkIGJ5IGFwcGxpY2FibGUgbGF3IG9yIGFncmVlZCB0byBpbiB3cml0aW5nLCBzb2Z0d2FyZQovLyBkaXN0cmlidXRlZCB1bmRlciB0aGUgTGljZW5zZSBpcyBkaXN0cmlidXRlZCBvbiBhbiAiQVMgSVMiIEJBU0lTLAovLyBXSVRIT1VUIFdBUlJBTlRJRVMgT1IgQ09ORElUSU9OUyBPRiBBTlkgS0lORCwgZWl0aGVyIGV4cHJlc3Mgb3IgaW1wbGllZC4KLy8gU2VlIHRoZSBMaWNlbnNlIGZvciB0aGUgc3BlY2lmaWMgbGFuZ3VhZ2UgZ292ZXJuaW5nIHBlcm1pc3Npb25zIGFuZAovLyBsaW1pdGF0aW9ucyB1bmRlciB0aGUgTGljZW5zZS4KCi8qKgogKiBAZmlsZW92ZXJ2aWV3IEhlbHBlcnMgZm9yIGdvb2dsZS5jb2xhYiBQeXRob24gbW9kdWxlLgogKi8KKGZ1bmN0aW9uKHNjb3BlKSB7CmZ1bmN0aW9uIHNwYW4odGV4dCwgc3R5bGVBdHRyaWJ1dGVzID0ge30pIHsKICBjb25zdCBlbGVtZW50ID0gZG9jdW1lbnQuY3JlYXRlRWxlbWVudCgnc3BhbicpOwogIGVsZW1lbnQudGV4dENvbnRlbnQgPSB0ZXh0OwogIGZvciAoY29uc3Qga2V5IG9mIE9iamVjdC5rZXlzKHN0eWxlQXR0cmlidXRlcykpIHsKICAgIGVsZW1lbnQuc3R5bGVba2V5XSA9IHN0eWxlQXR0cmlidXRlc1trZXldOwogIH0KICByZXR1cm4gZWxlbWVudDsKfQoKLy8gTWF4IG51bWJlciBvZiBieXRlcyB3aGljaCB3aWxsIGJlIHVwbG9hZGVkIGF0IGEgdGltZS4KY29uc3QgTUFYX1BBWUxPQURfU0laRSA9IDEwMCAqIDEwMjQ7CgpmdW5jdGlvbiBfdXBsb2FkRmlsZXMoaW5wdXRJZCwgb3V0cHV0SWQpIHsKICBjb25zdCBzdGVwcyA9IHVwbG9hZEZpbGVzU3RlcChpbnB1dElkLCBvdXRwdXRJZCk7CiAgY29uc3Qgb3V0cHV0RWxlbWVudCA9IGRvY3VtZW50LmdldEVsZW1lbnRCeUlkKG91dHB1dElkKTsKICAvLyBDYWNoZSBzdGVwcyBvbiB0aGUgb3V0cHV0RWxlbWVudCB0byBtYWtlIGl0IGF2YWlsYWJsZSBmb3IgdGhlIG5leHQgY2FsbAogIC8vIHRvIHVwbG9hZEZpbGVzQ29udGludWUgZnJvbSBQeXRob24uCiAgb3V0cHV0RWxlbWVudC5zdGVwcyA9IHN0ZXBzOwoKICByZXR1cm4gX3VwbG9hZEZpbGVzQ29udGludWUob3V0cHV0SWQpOwp9CgovLyBUaGlzIGlzIHJvdWdobHkgYW4gYXN5bmMgZ2VuZXJhdG9yIChub3Qgc3VwcG9ydGVkIGluIHRoZSBicm93c2VyIHlldCksCi8vIHdoZXJlIHRoZXJlIGFyZSBtdWx0aXBsZSBhc3luY2hyb25vdXMgc3RlcHMgYW5kIHRoZSBQeXRob24gc2lkZSBpcyBnb2luZwovLyB0byBwb2xsIGZvciBjb21wbGV0aW9uIG9mIGVhY2ggc3RlcC4KLy8gVGhpcyB1c2VzIGEgUHJvbWlzZSB0byBibG9jayB0aGUgcHl0aG9uIHNpZGUgb24gY29tcGxldGlvbiBvZiBlYWNoIHN0ZXAsCi8vIHRoZW4gcGFzc2VzIHRoZSByZXN1bHQgb2YgdGhlIHByZXZpb3VzIHN0ZXAgYXMgdGhlIGlucHV0IHRvIHRoZSBuZXh0IHN0ZXAuCmZ1bmN0aW9uIF91cGxvYWRGaWxlc0NvbnRpbnVlKG91dHB1dElkKSB7CiAgY29uc3Qgb3V0cHV0RWxlbWVudCA9IGRvY3VtZW50LmdldEVsZW1lbnRCeUlkKG91dHB1dElkKTsKICBjb25zdCBzdGVwcyA9IG91dHB1dEVsZW1lbnQuc3RlcHM7CgogIGNvbnN0IG5leHQgPSBzdGVwcy5uZXh0KG91dHB1dEVsZW1lbnQubGFzdFByb21pc2VWYWx1ZSk7CiAgcmV0dXJuIFByb21pc2UucmVzb2x2ZShuZXh0LnZhbHVlLnByb21pc2UpLnRoZW4oKHZhbHVlKSA9PiB7CiAgICAvLyBDYWNoZSB0aGUgbGFzdCBwcm9taXNlIHZhbHVlIHRvIG1ha2UgaXQgYXZhaWxhYmxlIHRvIHRoZSBuZXh0CiAgICAvLyBzdGVwIG9mIHRoZSBnZW5lcmF0b3IuCiAgICBvdXRwdXRFbGVtZW50Lmxhc3RQcm9taXNlVmFsdWUgPSB2YWx1ZTsKICAgIHJldHVybiBuZXh0LnZhbHVlLnJlc3BvbnNlOwogIH0pOwp9CgovKioKICogR2VuZXJhdG9yIGZ1bmN0aW9uIHdoaWNoIGlzIGNhbGxlZCBiZXR3ZWVuIGVhY2ggYXN5bmMgc3RlcCBvZiB0aGUgdXBsb2FkCiAqIHByb2Nlc3MuCiAqIEBwYXJhbSB7c3RyaW5nfSBpbnB1dElkIEVsZW1lbnQgSUQgb2YgdGhlIGlucHV0IGZpbGUgcGlja2VyIGVsZW1lbnQuCiAqIEBwYXJhbSB7c3RyaW5nfSBvdXRwdXRJZCBFbGVtZW50IElEIG9mIHRoZSBvdXRwdXQgZGlzcGxheS4KICogQHJldHVybiB7IUl0ZXJhYmxlPCFPYmplY3Q+fSBJdGVyYWJsZSBvZiBuZXh0IHN0ZXBzLgogKi8KZnVuY3Rpb24qIHVwbG9hZEZpbGVzU3RlcChpbnB1dElkLCBvdXRwdXRJZCkgewogIGNvbnN0IGlucHV0RWxlbWVudCA9IGRvY3VtZW50LmdldEVsZW1lbnRCeUlkKGlucHV0SWQpOwogIGlucHV0RWxlbWVudC5kaXNhYmxlZCA9IGZhbHNlOwoKICBjb25zdCBvdXRwdXRFbGVtZW50ID0gZG9jdW1lbnQuZ2V0RWxlbWVudEJ5SWQob3V0cHV0SWQpOwogIG91dHB1dEVsZW1lbnQuaW5uZXJIVE1MID0gJyc7CgogIGNvbnN0IHBpY2tlZFByb21pc2UgPSBuZXcgUHJvbWlzZSgocmVzb2x2ZSkgPT4gewogICAgaW5wdXRFbGVtZW50LmFkZEV2ZW50TGlzdGVuZXIoJ2NoYW5nZScsIChlKSA9PiB7CiAgICAgIHJlc29sdmUoZS50YXJnZXQuZmlsZXMpOwogICAgfSk7CiAgfSk7CgogIGNvbnN0IGNhbmNlbCA9IGRvY3VtZW50LmNyZWF0ZUVsZW1lbnQoJ2J1dHRvbicpOwogIGlucHV0RWxlbWVudC5wYXJlbnRFbGVtZW50LmFwcGVuZENoaWxkKGNhbmNlbCk7CiAgY2FuY2VsLnRleHRDb250ZW50ID0gJ0NhbmNlbCB1cGxvYWQnOwogIGNvbnN0IGNhbmNlbFByb21pc2UgPSBuZXcgUHJvbWlzZSgocmVzb2x2ZSkgPT4gewogICAgY2FuY2VsLm9uY2xpY2sgPSAoKSA9PiB7CiAgICAgIHJlc29sdmUobnVsbCk7CiAgICB9OwogIH0pOwoKICAvLyBXYWl0IGZvciB0aGUgdXNlciB0byBwaWNrIHRoZSBmaWxlcy4KICBjb25zdCBmaWxlcyA9IHlpZWxkIHsKICAgIHByb21pc2U6IFByb21pc2UucmFjZShbcGlja2VkUHJvbWlzZSwgY2FuY2VsUHJvbWlzZV0pLAogICAgcmVzcG9uc2U6IHsKICAgICAgYWN0aW9uOiAnc3RhcnRpbmcnLAogICAgfQogIH07CgogIGNhbmNlbC5yZW1vdmUoKTsKCiAgLy8gRGlzYWJsZSB0aGUgaW5wdXQgZWxlbWVudCBzaW5jZSBmdXJ0aGVyIHBpY2tzIGFyZSBub3QgYWxsb3dlZC4KICBpbnB1dEVsZW1lbnQuZGlzYWJsZWQgPSB0cnVlOwoKICBpZiAoIWZpbGVzKSB7CiAgICByZXR1cm4gewogICAgICByZXNwb25zZTogewogICAgICAgIGFjdGlvbjogJ2NvbXBsZXRlJywKICAgICAgfQogICAgfTsKICB9CgogIGZvciAoY29uc3QgZmlsZSBvZiBmaWxlcykgewogICAgY29uc3QgbGkgPSBkb2N1bWVudC5jcmVhdGVFbGVtZW50KCdsaScpOwogICAgbGkuYXBwZW5kKHNwYW4oZmlsZS5uYW1lLCB7Zm9udFdlaWdodDogJ2JvbGQnfSkpOwogICAgbGkuYXBwZW5kKHNwYW4oCiAgICAgICAgYCgke2ZpbGUudHlwZSB8fCAnbi9hJ30pIC0gJHtmaWxlLnNpemV9IGJ5dGVzLCBgICsKICAgICAgICBgbGFzdCBtb2RpZmllZDogJHsKICAgICAgICAgICAgZmlsZS5sYXN0TW9kaWZpZWREYXRlID8gZmlsZS5sYXN0TW9kaWZpZWREYXRlLnRvTG9jYWxlRGF0ZVN0cmluZygpIDoKICAgICAgICAgICAgICAgICAgICAgICAgICAgICAgICAgICAgJ24vYSd9IC0gYCkpOwogICAgY29uc3QgcGVyY2VudCA9IHNwYW4oJzAlIGRvbmUnKTsKICAgIGxpLmFwcGVuZENoaWxkKHBlcmNlbnQpOwoKICAgIG91dHB1dEVsZW1lbnQuYXBwZW5kQ2hpbGQobGkpOwoKICAgIGNvbnN0IGZpbGVEYXRhUHJvbWlzZSA9IG5ldyBQcm9taXNlKChyZXNvbHZlKSA9PiB7CiAgICAgIGNvbnN0IHJlYWRlciA9IG5ldyBGaWxlUmVhZGVyKCk7CiAgICAgIHJlYWRlci5vbmxvYWQgPSAoZSkgPT4gewogICAgICAgIHJlc29sdmUoZS50YXJnZXQucmVzdWx0KTsKICAgICAgfTsKICAgICAgcmVhZGVyLnJlYWRBc0FycmF5QnVmZmVyKGZpbGUpOwogICAgfSk7CiAgICAvLyBXYWl0IGZvciB0aGUgZGF0YSB0byBiZSByZWFkeS4KICAgIGxldCBmaWxlRGF0YSA9IHlpZWxkIHsKICAgICAgcHJvbWlzZTogZmlsZURhdGFQcm9taXNlLAogICAgICByZXNwb25zZTogewogICAgICAgIGFjdGlvbjogJ2NvbnRpbnVlJywKICAgICAgfQogICAgfTsKCiAgICAvLyBVc2UgYSBjaHVua2VkIHNlbmRpbmcgdG8gYXZvaWQgbWVzc2FnZSBzaXplIGxpbWl0cy4gU2VlIGIvNjIxMTU2NjAuCiAgICBsZXQgcG9zaXRpb24gPSAwOwogICAgZG8gewogICAgICBjb25zdCBsZW5ndGggPSBNYXRoLm1pbihmaWxlRGF0YS5ieXRlTGVuZ3RoIC0gcG9zaXRpb24sIE1BWF9QQVlMT0FEX1NJWkUpOwogICAgICBjb25zdCBjaHVuayA9IG5ldyBVaW50OEFycmF5KGZpbGVEYXRhLCBwb3NpdGlvbiwgbGVuZ3RoKTsKICAgICAgcG9zaXRpb24gKz0gbGVuZ3RoOwoKICAgICAgY29uc3QgYmFzZTY0ID0gYnRvYShTdHJpbmcuZnJvbUNoYXJDb2RlLmFwcGx5KG51bGwsIGNodW5rKSk7CiAgICAgIHlpZWxkIHsKICAgICAgICByZXNwb25zZTogewogICAgICAgICAgYWN0aW9uOiAnYXBwZW5kJywKICAgICAgICAgIGZpbGU6IGZpbGUubmFtZSwKICAgICAgICAgIGRhdGE6IGJhc2U2NCwKICAgICAgICB9LAogICAgICB9OwoKICAgICAgbGV0IHBlcmNlbnREb25lID0gZmlsZURhdGEuYnl0ZUxlbmd0aCA9PT0gMCA/CiAgICAgICAgICAxMDAgOgogICAgICAgICAgTWF0aC5yb3VuZCgocG9zaXRpb24gLyBmaWxlRGF0YS5ieXRlTGVuZ3RoKSAqIDEwMCk7CiAgICAgIHBlcmNlbnQudGV4dENvbnRlbnQgPSBgJHtwZXJjZW50RG9uZX0lIGRvbmVgOwoKICAgIH0gd2hpbGUgKHBvc2l0aW9uIDwgZmlsZURhdGEuYnl0ZUxlbmd0aCk7CiAgfQoKICAvLyBBbGwgZG9uZS4KICB5aWVsZCB7CiAgICByZXNwb25zZTogewogICAgICBhY3Rpb246ICdjb21wbGV0ZScsCiAgICB9CiAgfTsKfQoKc2NvcGUuZ29vZ2xlID0gc2NvcGUuZ29vZ2xlIHx8IHt9OwpzY29wZS5nb29nbGUuY29sYWIgPSBzY29wZS5nb29nbGUuY29sYWIgfHwge307CnNjb3BlLmdvb2dsZS5jb2xhYi5fZmlsZXMgPSB7CiAgX3VwbG9hZEZpbGVzLAogIF91cGxvYWRGaWxlc0NvbnRpbnVlLAp9Owp9KShzZWxmKTsK",
       "headers": [
        [
         "content-type",
         "application/javascript"
        ]
       ],
       "ok": true,
       "status": 200,
       "status_text": ""
      }
     }
    },
    "id": "cYSqMoP3NY8X",
    "outputId": "dc10fa64-7ce6-4c80-b70e-98e3030ab2f0"
   },
   "outputs": [
    {
     "data": {
      "text/html": [
       "\n",
       "     <input type=\"file\" id=\"files-a8c00c80-d4c7-4fad-9246-7ba76f1b3a2d\" name=\"files[]\" multiple disabled\n",
       "        style=\"border:none\" />\n",
       "     <output id=\"result-a8c00c80-d4c7-4fad-9246-7ba76f1b3a2d\">\n",
       "      Upload widget is only available when the cell has been executed in the\n",
       "      current browser session. Please rerun this cell to enable.\n",
       "      </output>\n",
       "      <script src=\"/nbextensions/google.colab/files.js\"></script> "
      ],
      "text/plain": [
       "<IPython.core.display.HTML object>"
      ]
     },
     "metadata": {},
     "output_type": "display_data"
    },
    {
     "name": "stdout",
     "output_type": "stream",
     "text": [
      "Saving housing.csv to housing (1).csv\n"
     ]
    }
   ],
   "source": [
    "from google.colab import files\n",
    "upload = files.upload()\n",
    "df = pd.read_csv('housing.csv')"
   ]
  },
  {
   "cell_type": "code",
   "execution_count": null,
   "metadata": {
    "colab": {
     "base_uri": "https://localhost:8080/",
     "height": 206
    },
    "id": "yBZGhl9ON5iW",
    "outputId": "8aa81706-2395-4593-f3f6-5979a9bb0b70"
   },
   "outputs": [
    {
     "data": {
      "text/html": [
       "\n",
       "  <div id=\"df-ed680ef7-34ab-4993-9e4a-370a5e074267\">\n",
       "    <div class=\"colab-df-container\">\n",
       "      <div>\n",
       "<style scoped>\n",
       "    .dataframe tbody tr th:only-of-type {\n",
       "        vertical-align: middle;\n",
       "    }\n",
       "\n",
       "    .dataframe tbody tr th {\n",
       "        vertical-align: top;\n",
       "    }\n",
       "\n",
       "    .dataframe thead th {\n",
       "        text-align: right;\n",
       "    }\n",
       "</style>\n",
       "<table border=\"1\" class=\"dataframe\">\n",
       "  <thead>\n",
       "    <tr style=\"text-align: right;\">\n",
       "      <th></th>\n",
       "      <th>CRIM</th>\n",
       "      <th>ZN</th>\n",
       "      <th>INDUS</th>\n",
       "      <th>CHAS</th>\n",
       "      <th>NOX</th>\n",
       "      <th>RM</th>\n",
       "      <th>AGE</th>\n",
       "      <th>DIS</th>\n",
       "      <th>RAD</th>\n",
       "      <th>TAX</th>\n",
       "      <th>PTRATIO</th>\n",
       "      <th>B</th>\n",
       "      <th>LSTAT</th>\n",
       "      <th>MEDV</th>\n",
       "    </tr>\n",
       "  </thead>\n",
       "  <tbody>\n",
       "    <tr>\n",
       "      <th>0</th>\n",
       "      <td>0.00632</td>\n",
       "      <td>18.0</td>\n",
       "      <td>2.31</td>\n",
       "      <td>0</td>\n",
       "      <td>0.538</td>\n",
       "      <td>6.575</td>\n",
       "      <td>65.2</td>\n",
       "      <td>4.0900</td>\n",
       "      <td>1</td>\n",
       "      <td>296.0</td>\n",
       "      <td>15.3</td>\n",
       "      <td>396.90</td>\n",
       "      <td>4.98</td>\n",
       "      <td>24.0</td>\n",
       "    </tr>\n",
       "    <tr>\n",
       "      <th>1</th>\n",
       "      <td>0.02731</td>\n",
       "      <td>0.0</td>\n",
       "      <td>7.07</td>\n",
       "      <td>0</td>\n",
       "      <td>0.469</td>\n",
       "      <td>6.421</td>\n",
       "      <td>78.9</td>\n",
       "      <td>4.9671</td>\n",
       "      <td>2</td>\n",
       "      <td>242.0</td>\n",
       "      <td>17.8</td>\n",
       "      <td>396.90</td>\n",
       "      <td>9.14</td>\n",
       "      <td>21.6</td>\n",
       "    </tr>\n",
       "    <tr>\n",
       "      <th>2</th>\n",
       "      <td>0.02729</td>\n",
       "      <td>0.0</td>\n",
       "      <td>7.07</td>\n",
       "      <td>0</td>\n",
       "      <td>0.469</td>\n",
       "      <td>7.185</td>\n",
       "      <td>61.1</td>\n",
       "      <td>4.9671</td>\n",
       "      <td>2</td>\n",
       "      <td>242.0</td>\n",
       "      <td>17.8</td>\n",
       "      <td>392.83</td>\n",
       "      <td>4.03</td>\n",
       "      <td>34.7</td>\n",
       "    </tr>\n",
       "    <tr>\n",
       "      <th>3</th>\n",
       "      <td>0.03237</td>\n",
       "      <td>0.0</td>\n",
       "      <td>2.18</td>\n",
       "      <td>0</td>\n",
       "      <td>0.458</td>\n",
       "      <td>6.998</td>\n",
       "      <td>45.8</td>\n",
       "      <td>6.0622</td>\n",
       "      <td>3</td>\n",
       "      <td>222.0</td>\n",
       "      <td>18.7</td>\n",
       "      <td>394.63</td>\n",
       "      <td>2.94</td>\n",
       "      <td>33.4</td>\n",
       "    </tr>\n",
       "    <tr>\n",
       "      <th>4</th>\n",
       "      <td>0.06905</td>\n",
       "      <td>0.0</td>\n",
       "      <td>2.18</td>\n",
       "      <td>0</td>\n",
       "      <td>0.458</td>\n",
       "      <td>7.147</td>\n",
       "      <td>54.2</td>\n",
       "      <td>6.0622</td>\n",
       "      <td>3</td>\n",
       "      <td>222.0</td>\n",
       "      <td>18.7</td>\n",
       "      <td>396.90</td>\n",
       "      <td>5.33</td>\n",
       "      <td>36.2</td>\n",
       "    </tr>\n",
       "  </tbody>\n",
       "</table>\n",
       "</div>\n",
       "      <button class=\"colab-df-convert\" onclick=\"convertToInteractive('df-ed680ef7-34ab-4993-9e4a-370a5e074267')\"\n",
       "              title=\"Convert this dataframe to an interactive table.\"\n",
       "              style=\"display:none;\">\n",
       "        \n",
       "  <svg xmlns=\"http://www.w3.org/2000/svg\" height=\"24px\"viewBox=\"0 0 24 24\"\n",
       "       width=\"24px\">\n",
       "    <path d=\"M0 0h24v24H0V0z\" fill=\"none\"/>\n",
       "    <path d=\"M18.56 5.44l.94 2.06.94-2.06 2.06-.94-2.06-.94-.94-2.06-.94 2.06-2.06.94zm-11 1L8.5 8.5l.94-2.06 2.06-.94-2.06-.94L8.5 2.5l-.94 2.06-2.06.94zm10 10l.94 2.06.94-2.06 2.06-.94-2.06-.94-.94-2.06-.94 2.06-2.06.94z\"/><path d=\"M17.41 7.96l-1.37-1.37c-.4-.4-.92-.59-1.43-.59-.52 0-1.04.2-1.43.59L10.3 9.45l-7.72 7.72c-.78.78-.78 2.05 0 2.83L4 21.41c.39.39.9.59 1.41.59.51 0 1.02-.2 1.41-.59l7.78-7.78 2.81-2.81c.8-.78.8-2.07 0-2.86zM5.41 20L4 18.59l7.72-7.72 1.47 1.35L5.41 20z\"/>\n",
       "  </svg>\n",
       "      </button>\n",
       "      \n",
       "  <style>\n",
       "    .colab-df-container {\n",
       "      display:flex;\n",
       "      flex-wrap:wrap;\n",
       "      gap: 12px;\n",
       "    }\n",
       "\n",
       "    .colab-df-convert {\n",
       "      background-color: #E8F0FE;\n",
       "      border: none;\n",
       "      border-radius: 50%;\n",
       "      cursor: pointer;\n",
       "      display: none;\n",
       "      fill: #1967D2;\n",
       "      height: 32px;\n",
       "      padding: 0 0 0 0;\n",
       "      width: 32px;\n",
       "    }\n",
       "\n",
       "    .colab-df-convert:hover {\n",
       "      background-color: #E2EBFA;\n",
       "      box-shadow: 0px 1px 2px rgba(60, 64, 67, 0.3), 0px 1px 3px 1px rgba(60, 64, 67, 0.15);\n",
       "      fill: #174EA6;\n",
       "    }\n",
       "\n",
       "    [theme=dark] .colab-df-convert {\n",
       "      background-color: #3B4455;\n",
       "      fill: #D2E3FC;\n",
       "    }\n",
       "\n",
       "    [theme=dark] .colab-df-convert:hover {\n",
       "      background-color: #434B5C;\n",
       "      box-shadow: 0px 1px 3px 1px rgba(0, 0, 0, 0.15);\n",
       "      filter: drop-shadow(0px 1px 2px rgba(0, 0, 0, 0.3));\n",
       "      fill: #FFFFFF;\n",
       "    }\n",
       "  </style>\n",
       "\n",
       "      <script>\n",
       "        const buttonEl =\n",
       "          document.querySelector('#df-ed680ef7-34ab-4993-9e4a-370a5e074267 button.colab-df-convert');\n",
       "        buttonEl.style.display =\n",
       "          google.colab.kernel.accessAllowed ? 'block' : 'none';\n",
       "\n",
       "        async function convertToInteractive(key) {\n",
       "          const element = document.querySelector('#df-ed680ef7-34ab-4993-9e4a-370a5e074267');\n",
       "          const dataTable =\n",
       "            await google.colab.kernel.invokeFunction('convertToInteractive',\n",
       "                                                     [key], {});\n",
       "          if (!dataTable) return;\n",
       "\n",
       "          const docLinkHtml = 'Like what you see? Visit the ' +\n",
       "            '<a target=\"_blank\" href=https://colab.research.google.com/notebooks/data_table.ipynb>data table notebook</a>'\n",
       "            + ' to learn more about interactive tables.';\n",
       "          element.innerHTML = '';\n",
       "          dataTable['output_type'] = 'display_data';\n",
       "          await google.colab.output.renderOutput(dataTable, element);\n",
       "          const docLink = document.createElement('div');\n",
       "          docLink.innerHTML = docLinkHtml;\n",
       "          element.appendChild(docLink);\n",
       "        }\n",
       "      </script>\n",
       "    </div>\n",
       "  </div>\n",
       "  "
      ],
      "text/plain": [
       "      CRIM    ZN  INDUS  CHAS    NOX  ...    TAX  PTRATIO       B  LSTAT  MEDV\n",
       "0  0.00632  18.0   2.31     0  0.538  ...  296.0     15.3  396.90   4.98  24.0\n",
       "1  0.02731   0.0   7.07     0  0.469  ...  242.0     17.8  396.90   9.14  21.6\n",
       "2  0.02729   0.0   7.07     0  0.469  ...  242.0     17.8  392.83   4.03  34.7\n",
       "3  0.03237   0.0   2.18     0  0.458  ...  222.0     18.7  394.63   2.94  33.4\n",
       "4  0.06905   0.0   2.18     0  0.458  ...  222.0     18.7  396.90   5.33  36.2\n",
       "\n",
       "[5 rows x 14 columns]"
      ]
     },
     "execution_count": 44,
     "metadata": {},
     "output_type": "execute_result"
    }
   ],
   "source": [
    "import pandas as pd\n",
    "column_names = ['CRIM', 'ZN', 'INDUS', 'CHAS', 'NOX', 'RM', 'AGE', 'DIS', 'RAD', 'TAX', 'PTRATIO', 'B', 'LSTAT', 'MEDV']\n",
    "df = pd.read_csv('housing.csv', header=None, delimiter=r\"\\s+\", names=column_names)\n",
    "df.head()"
   ]
  },
  {
   "cell_type": "code",
   "execution_count": null,
   "metadata": {
    "colab": {
     "base_uri": "https://localhost:8080/",
     "height": 300
    },
    "id": "tm6nbE4oOTca",
    "outputId": "a8c6637d-6d94-47ee-cfba-94637a511d87"
   },
   "outputs": [
    {
     "data": {
      "text/html": [
       "\n",
       "  <div id=\"df-bc2aaa55-2618-45bf-a6ee-a3810923aa99\">\n",
       "    <div class=\"colab-df-container\">\n",
       "      <div>\n",
       "<style scoped>\n",
       "    .dataframe tbody tr th:only-of-type {\n",
       "        vertical-align: middle;\n",
       "    }\n",
       "\n",
       "    .dataframe tbody tr th {\n",
       "        vertical-align: top;\n",
       "    }\n",
       "\n",
       "    .dataframe thead th {\n",
       "        text-align: right;\n",
       "    }\n",
       "</style>\n",
       "<table border=\"1\" class=\"dataframe\">\n",
       "  <thead>\n",
       "    <tr style=\"text-align: right;\">\n",
       "      <th></th>\n",
       "      <th>CRIM</th>\n",
       "      <th>ZN</th>\n",
       "      <th>INDUS</th>\n",
       "      <th>CHAS</th>\n",
       "      <th>NOX</th>\n",
       "      <th>RM</th>\n",
       "      <th>AGE</th>\n",
       "      <th>DIS</th>\n",
       "      <th>RAD</th>\n",
       "      <th>TAX</th>\n",
       "      <th>PTRATIO</th>\n",
       "      <th>B</th>\n",
       "      <th>LSTAT</th>\n",
       "      <th>PRICE</th>\n",
       "    </tr>\n",
       "  </thead>\n",
       "  <tbody>\n",
       "    <tr>\n",
       "      <th>count</th>\n",
       "      <td>506.000000</td>\n",
       "      <td>506.000000</td>\n",
       "      <td>506.000000</td>\n",
       "      <td>506.000000</td>\n",
       "      <td>506.000000</td>\n",
       "      <td>506.000000</td>\n",
       "      <td>506.000000</td>\n",
       "      <td>506.000000</td>\n",
       "      <td>506.000000</td>\n",
       "      <td>506.000000</td>\n",
       "      <td>506.000000</td>\n",
       "      <td>506.000000</td>\n",
       "      <td>506.000000</td>\n",
       "      <td>506.000000</td>\n",
       "    </tr>\n",
       "    <tr>\n",
       "      <th>mean</th>\n",
       "      <td>3.613524</td>\n",
       "      <td>11.363636</td>\n",
       "      <td>11.136779</td>\n",
       "      <td>0.069170</td>\n",
       "      <td>0.554695</td>\n",
       "      <td>6.284634</td>\n",
       "      <td>68.574901</td>\n",
       "      <td>3.795043</td>\n",
       "      <td>9.549407</td>\n",
       "      <td>408.237154</td>\n",
       "      <td>18.455534</td>\n",
       "      <td>356.674032</td>\n",
       "      <td>12.653063</td>\n",
       "      <td>22.532806</td>\n",
       "    </tr>\n",
       "    <tr>\n",
       "      <th>std</th>\n",
       "      <td>8.601545</td>\n",
       "      <td>23.322453</td>\n",
       "      <td>6.860353</td>\n",
       "      <td>0.253994</td>\n",
       "      <td>0.115878</td>\n",
       "      <td>0.702617</td>\n",
       "      <td>28.148861</td>\n",
       "      <td>2.105710</td>\n",
       "      <td>8.707259</td>\n",
       "      <td>168.537116</td>\n",
       "      <td>2.164946</td>\n",
       "      <td>91.294864</td>\n",
       "      <td>7.141062</td>\n",
       "      <td>9.197104</td>\n",
       "    </tr>\n",
       "    <tr>\n",
       "      <th>min</th>\n",
       "      <td>0.006320</td>\n",
       "      <td>0.000000</td>\n",
       "      <td>0.460000</td>\n",
       "      <td>0.000000</td>\n",
       "      <td>0.385000</td>\n",
       "      <td>3.561000</td>\n",
       "      <td>2.900000</td>\n",
       "      <td>1.129600</td>\n",
       "      <td>1.000000</td>\n",
       "      <td>187.000000</td>\n",
       "      <td>12.600000</td>\n",
       "      <td>0.320000</td>\n",
       "      <td>1.730000</td>\n",
       "      <td>5.000000</td>\n",
       "    </tr>\n",
       "    <tr>\n",
       "      <th>25%</th>\n",
       "      <td>0.082045</td>\n",
       "      <td>0.000000</td>\n",
       "      <td>5.190000</td>\n",
       "      <td>0.000000</td>\n",
       "      <td>0.449000</td>\n",
       "      <td>5.885500</td>\n",
       "      <td>45.025000</td>\n",
       "      <td>2.100175</td>\n",
       "      <td>4.000000</td>\n",
       "      <td>279.000000</td>\n",
       "      <td>17.400000</td>\n",
       "      <td>375.377500</td>\n",
       "      <td>6.950000</td>\n",
       "      <td>17.025000</td>\n",
       "    </tr>\n",
       "    <tr>\n",
       "      <th>50%</th>\n",
       "      <td>0.256510</td>\n",
       "      <td>0.000000</td>\n",
       "      <td>9.690000</td>\n",
       "      <td>0.000000</td>\n",
       "      <td>0.538000</td>\n",
       "      <td>6.208500</td>\n",
       "      <td>77.500000</td>\n",
       "      <td>3.207450</td>\n",
       "      <td>5.000000</td>\n",
       "      <td>330.000000</td>\n",
       "      <td>19.050000</td>\n",
       "      <td>391.440000</td>\n",
       "      <td>11.360000</td>\n",
       "      <td>21.200000</td>\n",
       "    </tr>\n",
       "    <tr>\n",
       "      <th>75%</th>\n",
       "      <td>3.677082</td>\n",
       "      <td>12.500000</td>\n",
       "      <td>18.100000</td>\n",
       "      <td>0.000000</td>\n",
       "      <td>0.624000</td>\n",
       "      <td>6.623500</td>\n",
       "      <td>94.075000</td>\n",
       "      <td>5.188425</td>\n",
       "      <td>24.000000</td>\n",
       "      <td>666.000000</td>\n",
       "      <td>20.200000</td>\n",
       "      <td>396.225000</td>\n",
       "      <td>16.955000</td>\n",
       "      <td>25.000000</td>\n",
       "    </tr>\n",
       "    <tr>\n",
       "      <th>max</th>\n",
       "      <td>88.976200</td>\n",
       "      <td>100.000000</td>\n",
       "      <td>27.740000</td>\n",
       "      <td>1.000000</td>\n",
       "      <td>0.871000</td>\n",
       "      <td>8.780000</td>\n",
       "      <td>100.000000</td>\n",
       "      <td>12.126500</td>\n",
       "      <td>24.000000</td>\n",
       "      <td>711.000000</td>\n",
       "      <td>22.000000</td>\n",
       "      <td>396.900000</td>\n",
       "      <td>37.970000</td>\n",
       "      <td>50.000000</td>\n",
       "    </tr>\n",
       "  </tbody>\n",
       "</table>\n",
       "</div>\n",
       "      <button class=\"colab-df-convert\" onclick=\"convertToInteractive('df-bc2aaa55-2618-45bf-a6ee-a3810923aa99')\"\n",
       "              title=\"Convert this dataframe to an interactive table.\"\n",
       "              style=\"display:none;\">\n",
       "        \n",
       "  <svg xmlns=\"http://www.w3.org/2000/svg\" height=\"24px\"viewBox=\"0 0 24 24\"\n",
       "       width=\"24px\">\n",
       "    <path d=\"M0 0h24v24H0V0z\" fill=\"none\"/>\n",
       "    <path d=\"M18.56 5.44l.94 2.06.94-2.06 2.06-.94-2.06-.94-.94-2.06-.94 2.06-2.06.94zm-11 1L8.5 8.5l.94-2.06 2.06-.94-2.06-.94L8.5 2.5l-.94 2.06-2.06.94zm10 10l.94 2.06.94-2.06 2.06-.94-2.06-.94-.94-2.06-.94 2.06-2.06.94z\"/><path d=\"M17.41 7.96l-1.37-1.37c-.4-.4-.92-.59-1.43-.59-.52 0-1.04.2-1.43.59L10.3 9.45l-7.72 7.72c-.78.78-.78 2.05 0 2.83L4 21.41c.39.39.9.59 1.41.59.51 0 1.02-.2 1.41-.59l7.78-7.78 2.81-2.81c.8-.78.8-2.07 0-2.86zM5.41 20L4 18.59l7.72-7.72 1.47 1.35L5.41 20z\"/>\n",
       "  </svg>\n",
       "      </button>\n",
       "      \n",
       "  <style>\n",
       "    .colab-df-container {\n",
       "      display:flex;\n",
       "      flex-wrap:wrap;\n",
       "      gap: 12px;\n",
       "    }\n",
       "\n",
       "    .colab-df-convert {\n",
       "      background-color: #E8F0FE;\n",
       "      border: none;\n",
       "      border-radius: 50%;\n",
       "      cursor: pointer;\n",
       "      display: none;\n",
       "      fill: #1967D2;\n",
       "      height: 32px;\n",
       "      padding: 0 0 0 0;\n",
       "      width: 32px;\n",
       "    }\n",
       "\n",
       "    .colab-df-convert:hover {\n",
       "      background-color: #E2EBFA;\n",
       "      box-shadow: 0px 1px 2px rgba(60, 64, 67, 0.3), 0px 1px 3px 1px rgba(60, 64, 67, 0.15);\n",
       "      fill: #174EA6;\n",
       "    }\n",
       "\n",
       "    [theme=dark] .colab-df-convert {\n",
       "      background-color: #3B4455;\n",
       "      fill: #D2E3FC;\n",
       "    }\n",
       "\n",
       "    [theme=dark] .colab-df-convert:hover {\n",
       "      background-color: #434B5C;\n",
       "      box-shadow: 0px 1px 3px 1px rgba(0, 0, 0, 0.15);\n",
       "      filter: drop-shadow(0px 1px 2px rgba(0, 0, 0, 0.3));\n",
       "      fill: #FFFFFF;\n",
       "    }\n",
       "  </style>\n",
       "\n",
       "      <script>\n",
       "        const buttonEl =\n",
       "          document.querySelector('#df-bc2aaa55-2618-45bf-a6ee-a3810923aa99 button.colab-df-convert');\n",
       "        buttonEl.style.display =\n",
       "          google.colab.kernel.accessAllowed ? 'block' : 'none';\n",
       "\n",
       "        async function convertToInteractive(key) {\n",
       "          const element = document.querySelector('#df-bc2aaa55-2618-45bf-a6ee-a3810923aa99');\n",
       "          const dataTable =\n",
       "            await google.colab.kernel.invokeFunction('convertToInteractive',\n",
       "                                                     [key], {});\n",
       "          if (!dataTable) return;\n",
       "\n",
       "          const docLinkHtml = 'Like what you see? Visit the ' +\n",
       "            '<a target=\"_blank\" href=https://colab.research.google.com/notebooks/data_table.ipynb>data table notebook</a>'\n",
       "            + ' to learn more about interactive tables.';\n",
       "          element.innerHTML = '';\n",
       "          dataTable['output_type'] = 'display_data';\n",
       "          await google.colab.output.renderOutput(dataTable, element);\n",
       "          const docLink = document.createElement('div');\n",
       "          docLink.innerHTML = docLinkHtml;\n",
       "          element.appendChild(docLink);\n",
       "        }\n",
       "      </script>\n",
       "    </div>\n",
       "  </div>\n",
       "  "
      ],
      "text/plain": [
       "             CRIM          ZN       INDUS  ...           B       LSTAT       PRICE\n",
       "count  506.000000  506.000000  506.000000  ...  506.000000  506.000000  506.000000\n",
       "mean     3.613524   11.363636   11.136779  ...  356.674032   12.653063   22.532806\n",
       "std      8.601545   23.322453    6.860353  ...   91.294864    7.141062    9.197104\n",
       "min      0.006320    0.000000    0.460000  ...    0.320000    1.730000    5.000000\n",
       "25%      0.082045    0.000000    5.190000  ...  375.377500    6.950000   17.025000\n",
       "50%      0.256510    0.000000    9.690000  ...  391.440000   11.360000   21.200000\n",
       "75%      3.677082   12.500000   18.100000  ...  396.225000   16.955000   25.000000\n",
       "max     88.976200  100.000000   27.740000  ...  396.900000   37.970000   50.000000\n",
       "\n",
       "[8 rows x 14 columns]"
      ]
     },
     "execution_count": 45,
     "metadata": {},
     "output_type": "execute_result"
    }
   ],
   "source": [
    "df = df.rename(columns={'MEDV': 'PRICE'})\n",
    "df.describe()"
   ]
  },
  {
   "cell_type": "code",
   "execution_count": null,
   "metadata": {
    "id": "uWZeUmfCQDi_"
   },
   "outputs": [],
   "source": [
    "X = df.drop('PRICE', axis = 1)\n",
    "y = df['PRICE']"
   ]
  },
  {
   "cell_type": "code",
   "execution_count": null,
   "metadata": {
    "id": "-ELMI_46QnOi"
   },
   "outputs": [],
   "source": [
    "X_train, X_test, y_train, y_test = train_test_split(X, y, test_size = 0.2, random_state= 20)"
   ]
  },
  {
   "cell_type": "code",
   "execution_count": null,
   "metadata": {
    "id": "yK2ku3PyQ4vb"
   },
   "outputs": [],
   "source": [
    "from sklearn.preprocessing import StandardScaler\n",
    "scaler = StandardScaler()\n",
    "scaler.fit(X_train)\n",
    "\n",
    "X_train_scaled = scaler.transform(X_train)\n",
    "X_test_scaled = scaler.transform(X_test)"
   ]
  },
  {
   "cell_type": "code",
   "execution_count": null,
   "metadata": {
    "id": "IevvBOKLSLB-"
   },
   "outputs": [],
   "source": [
    "model = Sequential()\n",
    "model.add(Dense(128, input_dim=13, activation = 'relu'))\n",
    "model.add(Dense(64, activation='relu'))\n",
    "\n",
    "model.add(Dense(1, activation='linear'))\n"
   ]
  },
  {
   "cell_type": "code",
   "execution_count": null,
   "metadata": {
    "colab": {
     "base_uri": "https://localhost:8080/"
    },
    "id": "qK70QGlGSPZO",
    "outputId": "040c457a-9416-4c53-df65-0e8728612d2e"
   },
   "outputs": [
    {
     "name": "stdout",
     "output_type": "stream",
     "text": [
      "Model: \"sequential_3\"\n",
      "_________________________________________________________________\n",
      " Layer (type)                Output Shape              Param #   \n",
      "=================================================================\n",
      " dense_9 (Dense)             (None, 128)               1792      \n",
      "                                                                 \n",
      " dense_10 (Dense)            (None, 64)                8256      \n",
      "                                                                 \n",
      " dense_11 (Dense)            (None, 1)                 65        \n",
      "                                                                 \n",
      "=================================================================\n",
      "Total params: 10,113\n",
      "Trainable params: 10,113\n",
      "Non-trainable params: 0\n",
      "_________________________________________________________________\n"
     ]
    }
   ],
   "source": [
    "model.compile(loss='mean_squared_error', optimizer='adam', metrics=['mae'])\n",
    "model.summary()\n"
   ]
  },
  {
   "cell_type": "code",
   "execution_count": null,
   "metadata": {
    "colab": {
     "base_uri": "https://localhost:8080/"
    },
    "id": "DKh4WRBoSP9j",
    "outputId": "43c4864e-b1d6-45cc-f211-5dc90b432a28"
   },
   "outputs": [
    {
     "name": "stdout",
     "output_type": "stream",
     "text": [
      "Epoch 1/100\n",
      "11/11 [==============================] - 1s 17ms/step - loss: 574.2377 - mae: 22.0698 - val_loss: 593.8059 - val_mae: 22.3315\n",
      "Epoch 2/100\n",
      "11/11 [==============================] - 0s 6ms/step - loss: 518.2239 - mae: 20.7887 - val_loss: 523.2448 - val_mae: 20.7895\n",
      "Epoch 3/100\n",
      "11/11 [==============================] - 0s 7ms/step - loss: 446.2822 - mae: 19.0557 - val_loss: 428.1805 - val_mae: 18.5283\n",
      "Epoch 4/100\n",
      "11/11 [==============================] - 0s 7ms/step - loss: 349.8337 - mae: 16.5101 - val_loss: 303.2553 - val_mae: 15.2178\n",
      "Epoch 5/100\n",
      "11/11 [==============================] - 0s 7ms/step - loss: 233.6438 - mae: 12.9242 - val_loss: 163.4906 - val_mae: 10.8672\n",
      "Epoch 6/100\n",
      "11/11 [==============================] - 0s 7ms/step - loss: 128.3360 - mae: 8.8571 - val_loss: 70.6724 - val_mae: 6.9517\n",
      "Epoch 7/100\n",
      "11/11 [==============================] - 0s 5ms/step - loss: 74.4961 - mae: 6.3966 - val_loss: 42.6348 - val_mae: 5.1964\n",
      "Epoch 8/100\n",
      "11/11 [==============================] - 0s 6ms/step - loss: 56.0113 - mae: 5.4949 - val_loss: 33.6301 - val_mae: 4.6691\n",
      "Epoch 9/100\n",
      "11/11 [==============================] - 0s 6ms/step - loss: 41.2395 - mae: 4.7035 - val_loss: 28.0496 - val_mae: 4.3226\n",
      "Epoch 10/100\n",
      "11/11 [==============================] - 0s 5ms/step - loss: 34.2781 - mae: 4.1413 - val_loss: 26.0352 - val_mae: 4.1693\n",
      "Epoch 11/100\n",
      "11/11 [==============================] - 0s 7ms/step - loss: 29.7055 - mae: 3.8155 - val_loss: 22.7667 - val_mae: 3.8816\n",
      "Epoch 12/100\n",
      "11/11 [==============================] - 0s 4ms/step - loss: 26.5657 - mae: 3.6013 - val_loss: 20.6440 - val_mae: 3.7557\n",
      "Epoch 13/100\n",
      "11/11 [==============================] - 0s 5ms/step - loss: 24.7693 - mae: 3.4658 - val_loss: 19.6669 - val_mae: 3.6664\n",
      "Epoch 14/100\n",
      "11/11 [==============================] - 0s 4ms/step - loss: 23.2262 - mae: 3.3505 - val_loss: 19.3975 - val_mae: 3.6165\n",
      "Epoch 15/100\n",
      "11/11 [==============================] - 0s 7ms/step - loss: 22.2507 - mae: 3.2800 - val_loss: 18.3968 - val_mae: 3.5242\n",
      "Epoch 16/100\n",
      "11/11 [==============================] - 0s 6ms/step - loss: 21.2523 - mae: 3.1743 - val_loss: 17.2464 - val_mae: 3.4152\n",
      "Epoch 17/100\n",
      "11/11 [==============================] - 0s 7ms/step - loss: 20.4343 - mae: 3.1024 - val_loss: 16.7101 - val_mae: 3.3527\n",
      "Epoch 18/100\n",
      "11/11 [==============================] - 0s 8ms/step - loss: 19.7866 - mae: 3.0554 - val_loss: 16.9428 - val_mae: 3.3290\n",
      "Epoch 19/100\n",
      "11/11 [==============================] - 0s 5ms/step - loss: 18.8458 - mae: 3.0668 - val_loss: 17.2455 - val_mae: 3.3402\n",
      "Epoch 20/100\n",
      "11/11 [==============================] - 0s 6ms/step - loss: 19.1970 - mae: 3.1839 - val_loss: 16.4430 - val_mae: 3.2457\n",
      "Epoch 21/100\n",
      "11/11 [==============================] - 0s 5ms/step - loss: 18.0151 - mae: 3.0219 - val_loss: 14.7195 - val_mae: 3.0952\n",
      "Epoch 22/100\n",
      "11/11 [==============================] - 0s 7ms/step - loss: 17.2487 - mae: 2.9373 - val_loss: 14.1908 - val_mae: 3.0479\n",
      "Epoch 23/100\n",
      "11/11 [==============================] - 0s 7ms/step - loss: 16.4948 - mae: 2.8262 - val_loss: 14.4848 - val_mae: 3.0513\n",
      "Epoch 24/100\n",
      "11/11 [==============================] - 0s 7ms/step - loss: 16.1900 - mae: 2.7724 - val_loss: 14.0025 - val_mae: 3.0019\n",
      "Epoch 25/100\n",
      "11/11 [==============================] - 0s 6ms/step - loss: 15.7057 - mae: 2.7265 - val_loss: 13.8341 - val_mae: 2.9775\n",
      "Epoch 26/100\n",
      "11/11 [==============================] - 0s 7ms/step - loss: 15.4458 - mae: 2.7042 - val_loss: 13.7180 - val_mae: 2.9357\n",
      "Epoch 27/100\n",
      "11/11 [==============================] - 0s 6ms/step - loss: 15.2109 - mae: 2.7078 - val_loss: 13.3959 - val_mae: 2.9372\n",
      "Epoch 28/100\n",
      "11/11 [==============================] - 0s 6ms/step - loss: 14.7670 - mae: 2.6488 - val_loss: 13.5362 - val_mae: 2.9231\n",
      "Epoch 29/100\n",
      "11/11 [==============================] - 0s 7ms/step - loss: 14.7074 - mae: 2.6413 - val_loss: 14.2988 - val_mae: 2.9853\n",
      "Epoch 30/100\n",
      "11/11 [==============================] - 0s 4ms/step - loss: 14.3146 - mae: 2.5887 - val_loss: 13.1341 - val_mae: 2.9150\n",
      "Epoch 31/100\n",
      "11/11 [==============================] - 0s 6ms/step - loss: 14.0167 - mae: 2.5521 - val_loss: 12.9991 - val_mae: 2.8843\n",
      "Epoch 32/100\n",
      "11/11 [==============================] - 0s 4ms/step - loss: 13.7278 - mae: 2.5227 - val_loss: 13.0729 - val_mae: 2.8429\n",
      "Epoch 33/100\n",
      "11/11 [==============================] - 0s 7ms/step - loss: 13.4627 - mae: 2.4973 - val_loss: 12.8395 - val_mae: 2.8119\n",
      "Epoch 34/100\n",
      "11/11 [==============================] - 0s 6ms/step - loss: 13.2787 - mae: 2.4777 - val_loss: 12.3898 - val_mae: 2.7878\n",
      "Epoch 35/100\n",
      "11/11 [==============================] - 0s 7ms/step - loss: 13.0304 - mae: 2.4577 - val_loss: 12.6698 - val_mae: 2.7865\n",
      "Epoch 36/100\n",
      "11/11 [==============================] - 0s 6ms/step - loss: 12.8007 - mae: 2.4195 - val_loss: 12.7227 - val_mae: 2.7901\n",
      "Epoch 37/100\n",
      "11/11 [==============================] - 0s 7ms/step - loss: 12.5683 - mae: 2.4005 - val_loss: 12.5437 - val_mae: 2.7739\n",
      "Epoch 38/100\n",
      "11/11 [==============================] - 0s 7ms/step - loss: 12.4039 - mae: 2.3853 - val_loss: 12.3398 - val_mae: 2.7564\n",
      "Epoch 39/100\n",
      "11/11 [==============================] - 0s 5ms/step - loss: 12.2662 - mae: 2.3747 - val_loss: 12.0684 - val_mae: 2.7503\n",
      "Epoch 40/100\n",
      "11/11 [==============================] - 0s 6ms/step - loss: 11.9981 - mae: 2.3584 - val_loss: 12.3687 - val_mae: 2.7878\n",
      "Epoch 41/100\n",
      "11/11 [==============================] - 0s 6ms/step - loss: 11.8167 - mae: 2.3572 - val_loss: 12.3489 - val_mae: 2.7837\n",
      "Epoch 42/100\n",
      "11/11 [==============================] - 0s 5ms/step - loss: 11.6601 - mae: 2.3096 - val_loss: 12.2027 - val_mae: 2.7754\n",
      "Epoch 43/100\n",
      "11/11 [==============================] - 0s 4ms/step - loss: 11.9360 - mae: 2.3666 - val_loss: 12.0111 - val_mae: 2.7707\n",
      "Epoch 44/100\n",
      "11/11 [==============================] - 0s 7ms/step - loss: 11.4971 - mae: 2.2979 - val_loss: 13.4836 - val_mae: 2.8763\n",
      "Epoch 45/100\n",
      "11/11 [==============================] - 0s 6ms/step - loss: 11.5576 - mae: 2.3397 - val_loss: 12.0141 - val_mae: 2.7782\n",
      "Epoch 46/100\n",
      "11/11 [==============================] - 0s 7ms/step - loss: 11.3081 - mae: 2.3322 - val_loss: 11.8137 - val_mae: 2.8201\n",
      "Epoch 47/100\n",
      "11/11 [==============================] - 0s 7ms/step - loss: 11.1314 - mae: 2.3094 - val_loss: 12.0998 - val_mae: 2.8283\n",
      "Epoch 48/100\n",
      "11/11 [==============================] - 0s 5ms/step - loss: 11.2062 - mae: 2.2954 - val_loss: 12.3374 - val_mae: 2.7930\n",
      "Epoch 49/100\n",
      "11/11 [==============================] - 0s 7ms/step - loss: 10.8049 - mae: 2.2516 - val_loss: 11.8550 - val_mae: 2.7622\n",
      "Epoch 50/100\n",
      "11/11 [==============================] - 0s 6ms/step - loss: 10.7893 - mae: 2.3087 - val_loss: 12.3137 - val_mae: 2.8243\n",
      "Epoch 51/100\n",
      "11/11 [==============================] - 0s 7ms/step - loss: 11.1072 - mae: 2.3312 - val_loss: 12.3526 - val_mae: 2.8083\n",
      "Epoch 52/100\n",
      "11/11 [==============================] - 0s 6ms/step - loss: 10.5093 - mae: 2.2288 - val_loss: 12.0711 - val_mae: 2.7545\n",
      "Epoch 53/100\n",
      "11/11 [==============================] - 0s 5ms/step - loss: 10.3491 - mae: 2.2077 - val_loss: 11.9723 - val_mae: 2.7433\n",
      "Epoch 54/100\n",
      "11/11 [==============================] - 0s 5ms/step - loss: 10.1428 - mae: 2.1939 - val_loss: 12.2516 - val_mae: 2.7589\n",
      "Epoch 55/100\n",
      "11/11 [==============================] - 0s 5ms/step - loss: 10.1255 - mae: 2.1984 - val_loss: 11.9305 - val_mae: 2.7331\n",
      "Epoch 56/100\n",
      "11/11 [==============================] - 0s 6ms/step - loss: 10.0397 - mae: 2.2035 - val_loss: 11.6092 - val_mae: 2.6873\n",
      "Epoch 57/100\n",
      "11/11 [==============================] - 0s 7ms/step - loss: 9.9058 - mae: 2.1810 - val_loss: 11.9521 - val_mae: 2.6977\n",
      "Epoch 58/100\n",
      "11/11 [==============================] - 0s 4ms/step - loss: 9.8791 - mae: 2.1912 - val_loss: 11.4482 - val_mae: 2.7033\n",
      "Epoch 59/100\n",
      "11/11 [==============================] - 0s 5ms/step - loss: 9.7166 - mae: 2.1563 - val_loss: 11.7543 - val_mae: 2.7048\n",
      "Epoch 60/100\n",
      "11/11 [==============================] - 0s 5ms/step - loss: 9.7090 - mae: 2.1496 - val_loss: 11.9227 - val_mae: 2.7141\n",
      "Epoch 61/100\n",
      "11/11 [==============================] - 0s 5ms/step - loss: 9.4292 - mae: 2.1118 - val_loss: 11.4943 - val_mae: 2.6986\n",
      "Epoch 62/100\n",
      "11/11 [==============================] - 0s 6ms/step - loss: 9.4693 - mae: 2.1163 - val_loss: 11.8088 - val_mae: 2.6899\n",
      "Epoch 63/100\n",
      "11/11 [==============================] - 0s 5ms/step - loss: 9.2800 - mae: 2.0850 - val_loss: 11.6769 - val_mae: 2.6711\n",
      "Epoch 64/100\n",
      "11/11 [==============================] - 0s 5ms/step - loss: 9.1478 - mae: 2.0859 - val_loss: 11.5604 - val_mae: 2.6678\n",
      "Epoch 65/100\n",
      "11/11 [==============================] - 0s 7ms/step - loss: 9.1743 - mae: 2.0968 - val_loss: 11.4206 - val_mae: 2.6808\n",
      "Epoch 66/100\n",
      "11/11 [==============================] - 0s 6ms/step - loss: 9.1078 - mae: 2.0854 - val_loss: 11.8094 - val_mae: 2.6870\n",
      "Epoch 67/100\n",
      "11/11 [==============================] - 0s 5ms/step - loss: 9.0289 - mae: 2.0650 - val_loss: 11.7373 - val_mae: 2.6951\n",
      "Epoch 68/100\n",
      "11/11 [==============================] - 0s 6ms/step - loss: 9.1712 - mae: 2.0996 - val_loss: 11.6375 - val_mae: 2.7218\n",
      "Epoch 69/100\n",
      "11/11 [==============================] - 0s 5ms/step - loss: 8.9552 - mae: 2.0516 - val_loss: 12.2600 - val_mae: 2.7251\n",
      "Epoch 70/100\n",
      "11/11 [==============================] - 0s 6ms/step - loss: 8.8949 - mae: 2.0636 - val_loss: 11.4813 - val_mae: 2.6948\n",
      "Epoch 71/100\n",
      "11/11 [==============================] - 0s 5ms/step - loss: 8.6946 - mae: 2.0474 - val_loss: 11.4390 - val_mae: 2.6636\n",
      "Epoch 72/100\n",
      "11/11 [==============================] - 0s 5ms/step - loss: 8.6193 - mae: 2.0381 - val_loss: 11.5108 - val_mae: 2.6643\n",
      "Epoch 73/100\n",
      "11/11 [==============================] - 0s 6ms/step - loss: 8.5397 - mae: 2.0244 - val_loss: 11.4966 - val_mae: 2.6619\n",
      "Epoch 74/100\n",
      "11/11 [==============================] - 0s 6ms/step - loss: 8.4232 - mae: 2.0102 - val_loss: 11.5616 - val_mae: 2.6801\n",
      "Epoch 75/100\n",
      "11/11 [==============================] - 0s 5ms/step - loss: 8.3309 - mae: 2.0050 - val_loss: 11.4045 - val_mae: 2.6588\n",
      "Epoch 76/100\n",
      "11/11 [==============================] - 0s 6ms/step - loss: 8.4342 - mae: 2.0286 - val_loss: 11.4745 - val_mae: 2.6446\n",
      "Epoch 77/100\n",
      "11/11 [==============================] - 0s 5ms/step - loss: 8.3579 - mae: 2.0100 - val_loss: 11.6119 - val_mae: 2.6992\n",
      "Epoch 78/100\n",
      "11/11 [==============================] - 0s 7ms/step - loss: 8.2271 - mae: 1.9898 - val_loss: 12.0461 - val_mae: 2.7241\n",
      "Epoch 79/100\n",
      "11/11 [==============================] - 0s 6ms/step - loss: 8.4115 - mae: 2.0068 - val_loss: 11.8217 - val_mae: 2.7195\n",
      "Epoch 80/100\n",
      "11/11 [==============================] - 0s 6ms/step - loss: 8.1057 - mae: 1.9862 - val_loss: 11.2983 - val_mae: 2.7045\n",
      "Epoch 81/100\n",
      "11/11 [==============================] - 0s 6ms/step - loss: 8.0656 - mae: 1.9735 - val_loss: 11.2341 - val_mae: 2.6680\n",
      "Epoch 82/100\n",
      "11/11 [==============================] - 0s 6ms/step - loss: 7.9792 - mae: 1.9579 - val_loss: 11.0857 - val_mae: 2.6380\n",
      "Epoch 83/100\n",
      "11/11 [==============================] - 0s 7ms/step - loss: 8.0823 - mae: 1.9736 - val_loss: 11.6205 - val_mae: 2.6569\n",
      "Epoch 84/100\n",
      "11/11 [==============================] - 0s 5ms/step - loss: 7.7856 - mae: 1.9415 - val_loss: 11.1909 - val_mae: 2.6450\n",
      "Epoch 85/100\n",
      "11/11 [==============================] - 0s 5ms/step - loss: 7.8366 - mae: 1.9505 - val_loss: 11.3555 - val_mae: 2.6526\n",
      "Epoch 86/100\n",
      "11/11 [==============================] - 0s 6ms/step - loss: 7.8428 - mae: 1.9512 - val_loss: 11.7363 - val_mae: 2.6471\n",
      "Epoch 87/100\n",
      "11/11 [==============================] - 0s 7ms/step - loss: 7.9332 - mae: 1.9624 - val_loss: 11.0701 - val_mae: 2.6331\n",
      "Epoch 88/100\n",
      "11/11 [==============================] - 0s 5ms/step - loss: 7.6544 - mae: 1.9581 - val_loss: 11.2692 - val_mae: 2.6200\n",
      "Epoch 89/100\n",
      "11/11 [==============================] - 0s 8ms/step - loss: 7.8148 - mae: 1.9533 - val_loss: 11.5625 - val_mae: 2.6689\n",
      "Epoch 90/100\n",
      "11/11 [==============================] - 0s 6ms/step - loss: 7.4062 - mae: 1.9055 - val_loss: 10.9175 - val_mae: 2.6205\n",
      "Epoch 91/100\n",
      "11/11 [==============================] - 0s 7ms/step - loss: 7.4950 - mae: 1.9445 - val_loss: 10.7550 - val_mae: 2.5798\n",
      "Epoch 92/100\n",
      "11/11 [==============================] - 0s 6ms/step - loss: 7.5978 - mae: 1.9534 - val_loss: 11.0127 - val_mae: 2.5881\n",
      "Epoch 93/100\n",
      "11/11 [==============================] - 0s 6ms/step - loss: 7.6264 - mae: 1.9281 - val_loss: 11.1233 - val_mae: 2.6142\n",
      "Epoch 94/100\n",
      "11/11 [==============================] - 0s 7ms/step - loss: 8.1462 - mae: 2.0300 - val_loss: 11.5640 - val_mae: 2.6326\n",
      "Epoch 95/100\n",
      "11/11 [==============================] - 0s 6ms/step - loss: 7.5260 - mae: 1.9032 - val_loss: 11.4510 - val_mae: 2.6452\n",
      "Epoch 96/100\n",
      "11/11 [==============================] - 0s 6ms/step - loss: 7.4621 - mae: 1.8981 - val_loss: 11.1521 - val_mae: 2.6304\n",
      "Epoch 97/100\n",
      "11/11 [==============================] - 0s 7ms/step - loss: 7.2250 - mae: 1.8689 - val_loss: 10.9349 - val_mae: 2.5807\n",
      "Epoch 98/100\n",
      "11/11 [==============================] - 0s 6ms/step - loss: 7.0040 - mae: 1.8736 - val_loss: 10.7938 - val_mae: 2.5916\n",
      "Epoch 99/100\n",
      "11/11 [==============================] - 0s 7ms/step - loss: 6.9915 - mae: 1.8795 - val_loss: 10.9750 - val_mae: 2.6034\n",
      "Epoch 100/100\n",
      "11/11 [==============================] - 0s 6ms/step - loss: 6.8991 - mae: 1.8457 - val_loss: 10.9610 - val_mae: 2.6200\n"
     ]
    }
   ],
   "source": [
    "\n",
    "history = model.fit(X_train_scaled, y_train, validation_split = 0.2, epochs = 100)"
   ]
  },
  {
   "cell_type": "code",
   "execution_count": null,
   "metadata": {
    "colab": {
     "base_uri": "https://localhost:8080/",
     "height": 590
    },
    "id": "P8jlsV1SUPxi",
    "outputId": "5ebfbdc4-0011-48b9-bda7-fa7552dc4d23"
   },
   "outputs": [
    {
     "data": {
      "image/png": "[encoded data removed]",
      "text/plain": [
       "<Figure size 432x288 with 1 Axes>"
      ]
     },
     "metadata": {
      "needs_background": "light"
     },
     "output_type": "display_data"
    },
    {
     "data": {
      "text/plain": [
       "<function matplotlib.pyplot.show>"
      ]
     },
     "execution_count": 54,
     "metadata": {},
     "output_type": "execute_result"
    },
    {
     "data": {
      "image/png": "[encoded data removed]",
      "text/plain": [
       "<Figure size 432x288 with 1 Axes>"
      ]
     },
     "metadata": {
      "needs_background": "light"
     },
     "output_type": "display_data"
    }
   ],
   "source": [
    "from matplotlib import pyplot as plt\n",
    "loss = history.history['loss']\n",
    "val_loss = history.history['val_loss']\n",
    "epochs = range(1, len(loss) + 1)\n",
    "plt.plot(epochs, loss, 'y', label = 'Training loss')\n",
    "plt.plot(epochs, val_loss, 'r', label = 'Validation loss')\n",
    "plt.title('Training and validation loss')\n",
    "plt.xlabel('Epochs')\n",
    "plt.ylabel('Loss')\n",
    "plt.legend()\n",
    "plt.show()\n",
    "\n",
    "acc = history.history['mae']\n",
    "val_acc = history.history['val_mae']\n",
    "plt.plot(epochs, acc, 'y', label = 'Training MAE')\n",
    "plt.plot(epochs, val_acc, 'r', label='Validation MAE')\n",
    "plt.title('Training and valitaion MAE')\n",
    "plt.xlabel('Epochs')\n",
    "plt.ylabel('Accuracy')\n",
    "plt.legend()\n",
    "plt.show"
   ]
  },
  {
   "cell_type": "code",
   "execution_count": null,
   "metadata": {
    "colab": {
     "base_uri": "https://localhost:8080/"
    },
    "id": "YeFDi8VhZ7Rn",
    "outputId": "a795a22f-e5e1-4f86-d3f9-2b7c27d7eb4e"
   },
   "outputs": [
    {
     "name": "stdout",
     "output_type": "stream",
     "text": [
      "Predicted values are:  [[18.214418]\n",
      " [21.610186]\n",
      " [19.739138]\n",
      " [20.566046]\n",
      " [13.021142]]\n",
      "Real values are:  498    21.2\n",
      "94     20.6\n",
      "150    21.5\n",
      "221    21.7\n",
      "423    13.4\n",
      "Name: PRICE, dtype: float64\n"
     ]
    }
   ],
   "source": [
    "predictions = model.predict(X_test_scaled[:5])\n",
    "print(\"Predicted values are: \", predictions)\n",
    "print(\"Real values are: \", y_test[:5])"
   ]
  },
  {
   "cell_type": "code",
   "execution_count": null,
   "metadata": {
    "colab": {
     "base_uri": "https://localhost:8080/"
    },
    "id": "56NOp3qNcllX",
    "outputId": "7a09f430-9746-4b5c-a0b9-ac16ef938246"
   },
   "outputs": [
    {
     "name": "stdout",
     "output_type": "stream",
     "text": [
      "4/4 [==============================] - 0s 3ms/step - loss: 14.5472 - mae: 2.8063\n",
      "Mean squared error from neural net:  14.547211647033691\n",
      "Mean absolute error from neural net:  2.8063251972198486\n"
     ]
    }
   ],
   "source": [
    "mse_neural, mae_neural = model.evaluate(X_test_scaled, y_test)\n",
    "print('Mean squared error from neural net: ', mse_neural)\n",
    "print('Mean absolute error from neural net: ', mae_neural)"
   ]
  },
  {
   "cell_type": "code",
   "execution_count": null,
   "metadata": {
    "id": "kxY66mIzdAcJ"
   },
   "outputs": [],
   "source": [
    "from sklearn import linear_model\n",
    "from sklearn.tree import DecisionTreeRegressor\n",
    "from sklearn.metrics import mean_squared_error, mean_absolute_error"
   ]
  },
  {
   "cell_type": "code",
   "execution_count": null,
   "metadata": {
    "colab": {
     "base_uri": "https://localhost:8080/"
    },
    "id": "8x6M9kI4dTKm",
    "outputId": "c49398b3-ef13-4ce5-d2c8-ecc27a3985db"
   },
   "outputs": [
    {
     "name": "stdout",
     "output_type": "stream",
     "text": [
      "Mean squared error from linear regression:  16.49535197593167\n",
      "Mean absolute error from linear regression:  3.055894153890959\n"
     ]
    }
   ],
   "source": [
    "lr_model = linear_model.LinearRegression()\n",
    "lr_model.fit(X_train_scaled, y_train)\n",
    "y_pred_lr = lr_model.predict(X_test_scaled)\n",
    "mse_lr = mean_squared_error(y_test, y_pred_lr)\n",
    "mae_lr = mean_absolute_error(y_test, y_pred_lr)\n",
    "print('Mean squared error from linear regression: ', mse_lr)\n",
    "print('Mean absolute error from linear regression: ', mae_lr)"
   ]
  },
  {
   "cell_type": "code",
   "execution_count": null,
   "metadata": {
    "colab": {
     "base_uri": "https://localhost:8080/"
    },
    "id": "s_ES8mrpd7AH",
    "outputId": "8d060231-8c6a-470f-8224-22ea58f237a5"
   },
   "outputs": [
    {
     "name": "stdout",
     "output_type": "stream",
     "text": [
      "Mean squared error from decision tree:  19.323529411764707\n",
      "Mean absolute error from decision tree:  3.123529411764706\n"
     ]
    }
   ],
   "source": [
    "tree = DecisionTreeRegressor()\n",
    "tree.fit(X_train_scaled, y_train)\n",
    "y_pred_tree = tree.predict(X_test_scaled)\n",
    "mse_dt = mean_squared_error(y_test, y_pred_tree)\n",
    "mae_dt = mean_absolute_error(y_test, y_pred_tree)\n",
    "print('Mean squared error from decision tree: ', mse_dt)\n",
    "print('Mean absolute error from decision tree: ', mae_dt)"
   ]
  },
  {
   "cell_type": "code",
   "execution_count": null,
   "metadata": {
    "colab": {
     "base_uri": "https://localhost:8080/"
    },
    "id": "TgJuvt3nefp_",
    "outputId": "94cd78ee-2636-4548-e51f-63da818ab52c"
   },
   "outputs": [
    {
     "name": "stdout",
     "output_type": "stream",
     "text": [
      "Mean squared error from Random Forest:  16.49535197593167\n",
      "Mean absolute error from Random Forest:  3.055894153890959\n"
     ]
    }
   ],
   "source": [
    "from sklearn.ensemble import RandomForestRegressor\n",
    "model = RandomForestRegressor(n_estimators = 10, random_state = 30)\n",
    "model.fit(X_train_scaled, y_train)\n",
    "\n",
    "y_pred_RF = model.predict(X_test_scaled)\n",
    "\n",
    "mse_RF = mean_squared_error(y_test, y_pred_RF)\n",
    "mae_RF = mean_absolute_error(y_test, y_pred_RF)\n",
    "print('Mean squared error from Random Forest: ', mse_lr)\n",
    "print('Mean absolute error from Random Forest: ', mae_lr)"
   ]
  },
  {
   "cell_type": "code",
   "execution_count": null,
   "metadata": {
    "colab": {
     "base_uri": "https://localhost:8080/"
    },
    "id": "3HVl1lAjfUfe",
    "outputId": "1f3848d9-199f-4fe7-b103-61377f6f06de"
   },
   "outputs": [
    {
     "name": "stdout",
     "output_type": "stream",
     "text": [
      "<bound method Series.sort_values of CRIM       0.041846\n",
      "ZN         0.000850\n",
      "INDUS      0.006832\n",
      "CHAS       0.000232\n",
      "NOX        0.013179\n",
      "RM         0.406793\n",
      "AGE        0.010935\n",
      "DIS        0.070053\n",
      "RAD        0.002776\n",
      "TAX        0.012763\n",
      "PTRATIO    0.017368\n",
      "B          0.007687\n",
      "LSTAT      0.408686\n",
      "dtype: float64>\n"
     ]
    }
   ],
   "source": [
    "import pandas as pd\n",
    "feature_list = list(X.columns)\n",
    "feature_imp = pd.Series(model.feature_importances_, index = feature_list).sort_values\n",
    "print(feature_imp)"
   ]
  },
  {
   "cell_type": "code",
   "execution_count": null,
   "metadata": {
    "id": "r6qpvWiDf-ev"
   },
   "outputs": [],
   "source": []
  }
 ],
 "metadata": {
  "colab": {
   "collapsed_sections": [],
   "name": "NeuralNetHousePriceComparisonOtherMethods.ipynb",
   "provenance": []
  },
  "kernelspec": {
   "display_name": "Python 3 (ipykernel)",
   "language": "python",
   "name": "python3"
  },
  "language_info": {
   "codemirror_mode": {
    "name": "ipython",
    "version": 3
   },
   "file_extension": ".py",
   "mimetype": "text/x-python",
   "name": "python",
   "nbconvert_exporter": "python",
   "pygments_lexer": "ipython3",
   "version": "3.9.7"
  }
 },
 "nbformat": 4,
 "nbformat_minor": 1
}
